{
 "cells": [
  {
   "cell_type": "code",
   "execution_count": 54,
   "id": "cef10de4-fe6f-4126-9683-80d0e7122e5b",
   "metadata": {},
   "outputs": [],
   "source": [
    "from csv import DictReader\n",
    "import openpyxl as opxl"
   ]
  },
  {
   "cell_type": "code",
   "execution_count": 91,
   "id": "bc01d0ae-dd32-4a8b-b90c-10b4452a0955",
   "metadata": {},
   "outputs": [],
   "source": [
    "MAPPING = {\n",
    "    \"dd\":\"B2\",\n",
    "    \"mm\": \"C2\",\n",
    "    \"yyyy\": \"D2\",\n",
    "    \"orden de pago\": \"I1\",\n",
    "    \"valor\":\"B4\",\n",
    "    \"beneficiario\":\"B5\",\n",
    "    \"ccnit\":\"H5\",\n",
    "    \"concepto\":\"B6\",\n",
    "    \"banco\":\"B8\",\n",
    "    \"numero de cuenta\":\"G8\",\n",
    "}\n",
    "\n",
    "XLSX_TEMPLATE = \"template.xlsx\"\n",
    "CSV_FILE = \"data.csv\"\n",
    "XLSX_OUTPUT = \"out.xlsx\""
   ]
  },
  {
   "cell_type": "code",
   "execution_count": 96,
   "id": "56cc0e2a-c21e-4fe0-b288-7f4d063a85a3",
   "metadata": {},
   "outputs": [],
   "source": [
    "wb = opxl.load_workbook(XLSX_TEMPLATE)"
   ]
  },
  {
   "cell_type": "code",
   "execution_count": 97,
   "id": "dc4933e1-520f-4cf5-8fef-089a8b707d3c",
   "metadata": {},
   "outputs": [],
   "source": [
    "with open(CSV_FILE) as csvfile:\n",
    "    reader = DictReader(csvfile)\n",
    "    orden = wb.active\n",
    "    for row in reader:\n",
    "        orden = wb.copy_worksheet(orden)\n",
    "        title = f\"Orden de pago {row['orden de pago']}\"\n",
    "        orden.title = title\n",
    "        # set XYZ\n",
    "        for k in row.keys():\n",
    "            if k in MAPPING:\n",
    "                orden[MAPPING[k]] = row[k]\n",
    "    del wb[\"Ejemplo\"]"
   ]
  },
  {
   "cell_type": "code",
   "execution_count": 98,
   "id": "d14cde44-9555-4d3a-88f7-bd28d34bd8f1",
   "metadata": {},
   "outputs": [
    {
     "name": "stdout",
     "output_type": "stream",
     "text": [
      "Ejemplo\n",
      "Orden de pago 102\n",
      "Orden de pago 103\n",
      "Orden de pago 104\n",
      "Orden de pago 105\n",
      "Orden de pago 106\n",
      "Orden de pago 107\n"
     ]
    }
   ],
   "source": [
    "for ws in wb.worksheets:\n",
    "    print(ws.title)"
   ]
  },
  {
   "cell_type": "code",
   "execution_count": 106,
   "id": "6748ebfc-4313-4a24-9f83-68c8cb43ecf2",
   "metadata": {},
   "outputs": [],
   "source": [
    "wb.save(XLSX_OUTPUT)"
   ]
  },
  {
   "cell_type": "code",
   "execution_count": 102,
   "id": "55e87af1-a9a3-4c34-ba70-80abffa5b665",
   "metadata": {},
   "outputs": [],
   "source": [
    "del wb[\"Ejemplo\"]"
   ]
  },
  {
   "cell_type": "code",
   "execution_count": 105,
   "id": "c86663f9-2d49-4b9f-9532-6e91d5cbfb19",
   "metadata": {},
   "outputs": [
    {
     "data": {
      "text/plain": [
       "[<Worksheet \"Ejemplo\">]"
      ]
     },
     "execution_count": 105,
     "metadata": {},
     "output_type": "execute_result"
    }
   ],
   "source": [
    "wb.worksheets"
   ]
  },
  {
   "cell_type": "code",
   "execution_count": 104,
   "id": "19ae5e84-ad9b-4bcc-860b-c922a538e692",
   "metadata": {},
   "outputs": [],
   "source": [
    "wb[\"Orden de pago 102\"].title = \"Ejemplo\""
   ]
  },
  {
   "cell_type": "code",
   "execution_count": null,
   "id": "8542f421-6ce7-47b5-9356-8fd835d1f514",
   "metadata": {},
   "outputs": [],
   "source": []
  }
 ],
 "metadata": {
  "kernelspec": {
   "display_name": "Python 3 (ipykernel)",
   "language": "python",
   "name": "python3"
  },
  "language_info": {
   "codemirror_mode": {
    "name": "ipython",
    "version": 3
   },
   "file_extension": ".py",
   "mimetype": "text/x-python",
   "name": "python",
   "nbconvert_exporter": "python",
   "pygments_lexer": "ipython3",
   "version": "3.8.12"
  }
 },
 "nbformat": 4,
 "nbformat_minor": 5
}
